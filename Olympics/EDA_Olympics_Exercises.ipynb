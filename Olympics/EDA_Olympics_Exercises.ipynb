{
 "cells": [
  {
   "cell_type": "markdown",
   "metadata": {},
   "source": [
    "# Exercises"
   ]
  },
  {
   "cell_type": "code",
   "execution_count": 2,
   "metadata": {
    "collapsed": true
   },
   "outputs": [],
   "source": [
    "%matplotlib inline\n",
    "import numpy as np\n",
    "import matplotlib as plt\n",
    "import pandas as pd\n",
    "import math\n",
    "import datetime"
   ]
  },
  {
   "cell_type": "markdown",
   "metadata": {},
   "source": [
    "## 1. What was the average age in male and female athletes?"
   ]
  },
  {
   "cell_type": "code",
   "execution_count": 3,
   "metadata": {
    "collapsed": false
   },
   "outputs": [
    {
     "name": "stdout",
     "output_type": "stream",
     "text": [
      "              id                      name nationality     sex       dob  \\\n",
      "0      736041664            A Jesus Garcia         ESP    male  10/17/69   \n",
      "1      532037425                A Lam Shin         KOR  female   9/23/86   \n",
      "2      435962603               Aaron Brown         CAN    male   5/27/92   \n",
      "3      521041435                Aaron Cook         MDA    male    1/2/91   \n",
      "4       33922579                Aaron Gate         NZL    male  11/26/90   \n",
      "5      173071782               Aaron Royle         AUS    male   1/26/90   \n",
      "6      266237702             Aaron Russell         USA    male    6/4/93   \n",
      "7      382571888             Aaron Younger         AUS    male   9/25/91   \n",
      "8       87689776       Aauri Lorena Bokesa         ESP  female  12/14/88   \n",
      "9      997877719           Ababel Yeshaneh         ETH  female   7/22/91   \n",
      "10     343694681               Abadi Hadis         ETH    male   11/6/97   \n",
      "11     591319906      Abbas Abubakar Abbas         BRN    male   5/17/96   \n",
      "12     258556239                Abbas Qali         IOA    male  10/11/92   \n",
      "13     376068084          Abbey D'Agostino         USA  female   5/25/92   \n",
      "14     162792594            Abbey Weitzeil         USA  female   12/3/96   \n",
      "15     521036704               Abbie Brown         GBR  female   4/10/96   \n",
      "16     149397772           Abbos Rakhmonov         UZB    male    7/7/98   \n",
      "17     256673338          Abbubaker Mobara         RSA    male   2/18/94   \n",
      "18     337369662                Abby Erceg         NZL  female  11/20/89   \n",
      "19     334169879  Abd Elhalim Mohamed Abou         EGY    male    6/3/89   \n",
      "20     215053268         Abdalaati Iguider         MAR    male   3/25/87   \n",
      "21     763711985          Abdalelah Haroun         QAT    male    1/1/97   \n",
      "22     924593601            Abdalla Targan         SUD    male   9/28/96   \n",
      "23     578032534        Abdel Aziz Mehelba         EGY    male  12/10/88   \n",
      "24     890222258        Abdelati El Guesse         MAR    male   2/27/93   \n",
      "25     803161695       Abdelaziz Merzougui         ESP    male   8/30/91   \n",
      "26     189931373   Abdelaziz Mohamed Ahmed         SUD    male  10/12/94   \n",
      "27     677622742         Abdelghani Demmou         ALG    male   1/29/89   \n",
      "28     349871091      Abdelhafid Benchabla         ALG    male   9/26/86   \n",
      "29     904808208       Abdelhakim Amokrane         ALG    male   5/10/94   \n",
      "...          ...                       ...         ...     ...       ...   \n",
      "11508  499603226               Zoe Buckman         AUS  female  12/21/88   \n",
      "11509  836633838                   Zoe Lee         GBR  female  12/15/85   \n",
      "11510  634140075             Zoe Stevenson         NZL  female   6/19/91   \n",
      "11511  343671816             Zoe de Toledo         GBR  female   7/17/87   \n",
      "11512  371106012             Zohar Shikler         ISR  female    7/8/97   \n",
      "11513  352983859             Zohir Kedache         ALG    male    3/2/86   \n",
      "11514  424586991         Zohra Ez Zahraoui         MAR  female  11/18/83   \n",
      "11515  211176854           Zoi Kontogianni         GRE  female   9/19/97   \n",
      "11516  875374176            Zokhid Kenjaev         UZB    male   3/30/92   \n",
      "11517  495365659        Zoltan Adam Harcsa         HUN    male  11/20/92   \n",
      "11518  672182746             Zoltan Kovago         HUN    male   4/10/79   \n",
      "11519  412827228           Zorana Arunovic         SRB  female  11/22/86   \n",
      "11520  724419150             Zouhair Aouad         BRN    male    4/7/89   \n",
      "11521  281890328  Zoulehia Abzetta Dabonne         CIV  female  12/15/92   \n",
      "11522  230998458           Zoya Ananchenko         KAZ  female    9/5/96   \n",
      "11523  778588793            Zsanett Nemeth         HUN  female   1/21/94   \n",
      "11524  640253635             Zsofia Csonka         HUN  female   9/12/83   \n",
      "11525  999437858            Zsofia Erdelyi         HUN  female  12/10/87   \n",
      "11526   46916465           Zsofia Foldhazi         HUN  female    6/9/93   \n",
      "11527  738530209             Zsofia Kovacs         HUN  female    2/7/88   \n",
      "11528  499425013             Zsofia Kovacs         HUN  female    4/6/00   \n",
      "11529  862285226            Zsombor Berecz         HUN    male   4/26/86   \n",
      "11530  739315046         Zsuzsanna Jakabos         HUN  female    4/3/89   \n",
      "11531  600541319       Zurabi Datunashvili         GEO    male   6/18/91   \n",
      "11532  801825063       Zurabi Iakobishvili         GEO    male    2/4/92   \n",
      "11533  265605954        Zurian Hechavarria         CUB  female   8/10/95   \n",
      "11534  214461847            Zuzana Hejnova         CZE  female  12/19/86   \n",
      "11535   88361042                   di Xiao         CHN    male   5/14/91   \n",
      "11536  900065925         le Quoc Toan Tran         VIE    male    4/5/89   \n",
      "11537  711404576            le Roux Hamman         RSA    male    1/6/92   \n",
      "\n",
      "       height  weight              sport  gold  silver  bronze  \n",
      "0        1.72    64.0          athletics     0       0       0  \n",
      "1        1.68    56.0            fencing     0       0       0  \n",
      "2        1.98    79.0          athletics     0       0       1  \n",
      "3        1.83    80.0          taekwondo     0       0       0  \n",
      "4        1.81    71.0            cycling     0       0       0  \n",
      "5        1.80    67.0          triathlon     0       0       0  \n",
      "6        2.05    98.0         volleyball     0       0       1  \n",
      "7        1.93   100.0           aquatics     0       0       0  \n",
      "8        1.80    62.0          athletics     0       0       0  \n",
      "9        1.65    54.0          athletics     0       0       0  \n",
      "10       1.70    63.0          athletics     0       0       0  \n",
      "11       1.75    66.0          athletics     0       0       0  \n",
      "12        NaN     NaN           aquatics     0       0       0  \n",
      "13       1.61    49.0          athletics     0       0       0  \n",
      "14       1.78    68.0           aquatics     1       1       0  \n",
      "15       1.76    71.0       rugby sevens     0       0       0  \n",
      "16       1.61    57.0          wrestling     0       0       0  \n",
      "17       1.75    64.0           football     0       0       0  \n",
      "18       1.75    68.0           football     0       0       0  \n",
      "19       2.10    88.0         volleyball     0       0       0  \n",
      "20       1.73    57.0          athletics     0       0       0  \n",
      "21       1.85    80.0          athletics     0       0       0  \n",
      "22       1.77    65.0          athletics     0       0       0  \n",
      "23       1.76    80.0           shooting     0       0       0  \n",
      "24       1.90    72.0          athletics     0       0       0  \n",
      "25       1.75    67.0          athletics     0       0       0  \n",
      "26       1.81    72.0           aquatics     0       0       0  \n",
      "27       1.85    75.0           football     0       0       0  \n",
      "28       1.86     NaN             boxing     0       0       0  \n",
      "29       1.86    70.0           football     0       0       0  \n",
      "...       ...     ...                ...   ...     ...     ...  \n",
      "11508    1.68    50.0          athletics     0       0       0  \n",
      "11509    1.76    70.0             rowing     0       1       0  \n",
      "11510    1.83    74.0             rowing     0       0       0  \n",
      "11511    1.72    58.0             rowing     0       1       0  \n",
      "11512    1.78    61.0           aquatics     0       0       0  \n",
      "11513    1.78     NaN             boxing     0       0       0  \n",
      "11514    1.65     NaN             boxing     0       0       0  \n",
      "11515    1.65    47.0         gymnastics     0       0       0  \n",
      "11516    1.68    61.0       table tennis     0       0       0  \n",
      "11517    1.84     NaN             boxing     0       0       0  \n",
      "11518    2.04   132.0          athletics     0       0       0  \n",
      "11519    1.68    90.0           shooting     0       0       0  \n",
      "11520    1.75    69.0          athletics     0       0       0  \n",
      "11521    1.75    57.0               judo     0       0       0  \n",
      "11522    1.65    67.0              canoe     0       0       0  \n",
      "11523    1.75    80.0          wrestling     0       0       0  \n",
      "11524    1.64    89.0           shooting     0       0       0  \n",
      "11525    1.64    53.0          athletics     0       0       0  \n",
      "11526    1.70    54.0  modern pentathlon     0       0       0  \n",
      "11527    1.80    58.0          triathlon     0       0       0  \n",
      "11528    1.58    49.0         gymnastics     0       0       0  \n",
      "11529    1.95    95.0            sailing     0       0       0  \n",
      "11530    1.85    70.0           aquatics     0       0       0  \n",
      "11531    1.83    75.0          wrestling     0       0       0  \n",
      "11532    1.71    68.0          wrestling     0       0       0  \n",
      "11533    1.64    58.0          athletics     0       0       0  \n",
      "11534    1.73    63.0          athletics     0       0       0  \n",
      "11535    1.85   100.0          wrestling     0       0       0  \n",
      "11536    1.60    56.0      weightlifting     0       0       0  \n",
      "11537    1.85    70.0          athletics     0       0       0  \n",
      "\n",
      "[11538 rows x 11 columns]\n"
     ]
    }
   ],
   "source": [
    "athlete=pd.read_csv('athletes.csv')\n",
    "countries=pd.read_csv('countries.csv')\n",
    "athlete.head()\n",
    "countries.head()\n",
    "country_name=countries['country']\n",
    "country_code=countries['code']\n",
    "country_dict={}\n",
    "for i in range(0,len(country_name)):\n",
    "    country_dict[country_code[i]]=country_name[i]\n",
    "print(athlete)\n",
    "countries['nationality']=countries['code']\n",
    "del countries['code']"
   ]
  },
  {
   "cell_type": "markdown",
   "metadata": {},
   "source": [
    "## 2. What are the most common Dates of Birth?"
   ]
  },
  {
   "cell_type": "code",
   "execution_count": 4,
   "metadata": {
    "collapsed": false
   },
   "outputs": [
    {
     "name": "stdout",
     "output_type": "stream",
     "text": [
      "Most common date of birth is 2/18/93\n"
     ]
    }
   ],
   "source": [
    "common_dob=athlete['dob'].value_counts().idxmax()\n",
    "count_dob=athlete['dob'].value_counts().max()\n",
    "print('Most common date of birth is %s'%common_dob)"
   ]
  },
  {
   "cell_type": "markdown",
   "metadata": {},
   "source": [
    "## 3. How about the most common birthdays?"
   ]
  },
  {
   "cell_type": "code",
   "execution_count": 5,
   "metadata": {
    "collapsed": false
   },
   "outputs": [
    {
     "data": {
      "text/plain": [
       "2/18/93     9\n",
       "12/20/90    9\n",
       "3/5/88      9\n",
       "4/29/88     8\n",
       "7/30/93     8\n",
       "3/3/93      8\n",
       "6/9/89      8\n",
       "12/14/89    8\n",
       "3/1/89      8\n",
       "5/2/90      8\n",
       "6/19/91     8\n",
       "4/3/88      8\n",
       "2/22/88     7\n",
       "7/2/86      7\n",
       "11/18/91    7\n",
       "8/19/94     7\n",
       "10/30/87    7\n",
       "1/1/97      7\n",
       "3/5/90      7\n",
       "3/29/93     7\n",
       "6/15/94     7\n",
       "7/11/90     7\n",
       "1/30/93     7\n",
       "8/18/91     7\n",
       "1/10/92     7\n",
       "2/8/91      7\n",
       "1/4/89      7\n",
       "3/22/88     7\n",
       "4/5/89      7\n",
       "1/28/91     7\n",
       "           ..\n",
       "5/28/95     1\n",
       "11/13/98    1\n",
       "11/24/81    1\n",
       "1/9/77      1\n",
       "7/25/97     1\n",
       "5/11/95     1\n",
       "8/28/93     1\n",
       "4/25/95     1\n",
       "6/14/96     1\n",
       "12/7/95     1\n",
       "7/15/81     1\n",
       "2/1/00      1\n",
       "12/16/97    1\n",
       "3/1/98      1\n",
       "7/14/86     1\n",
       "7/29/94     1\n",
       "12/5/96     1\n",
       "8/26/99     1\n",
       "1/28/99     1\n",
       "10/19/96    1\n",
       "11/29/90    1\n",
       "12/21/81    1\n",
       "6/4/85      1\n",
       "6/4/88      1\n",
       "3/1/56      1\n",
       "11/16/84    1\n",
       "4/26/83     1\n",
       "1/26/79     1\n",
       "9/27/82     1\n",
       "2/19/89     1\n",
       "Name: dob, dtype: int64"
      ]
     },
     "execution_count": 5,
     "metadata": {},
     "output_type": "execute_result"
    }
   ],
   "source": [
    "athlete['dob'].value_counts()"
   ]
  },
  {
   "cell_type": "markdown",
   "metadata": {},
   "source": [
    "## 4. What are the Countries with more than 100 medals?"
   ]
  },
  {
   "cell_type": "code",
   "execution_count": 6,
   "metadata": {
    "collapsed": false
   },
   "outputs": [
    {
     "name": "stdout",
     "output_type": "stream",
     "text": [
      "countries with more than 100 medlas are ['China', 'United Kingdom', 'Germany', 'Russia', 'United States']\n"
     ]
    }
   ],
   "source": [
    "athlete['tot_med']=athlete['gold']+athlete['silver']+athlete['bronze']\n",
    "country_TM=athlete.groupby('nationality')['tot_med'].sum()\n",
    "country_TM_100=country_TM[country_TM>100]\n",
    "country_code_TM_100=country_TM_100.index\n",
    "country_name_TM_100=[]\n",
    "for i in country_code_TM_100:\n",
    "    country_name_TM_100.append(country_dict[i])\n",
    "print('countries with more than 100 medlas are',country_name_TM_100)"
   ]
  },
  {
   "cell_type": "markdown",
   "metadata": {},
   "source": [
    "## 5. Create a bar or pie chart for the results of the previous exercise."
   ]
  },
  {
   "cell_type": "code",
   "execution_count": 7,
   "metadata": {
    "collapsed": false
   },
   "outputs": [
    {
     "data": {
      "text/plain": [
       "<matplotlib.axes._subplots.AxesSubplot at 0x11736a6d8>"
      ]
     },
     "execution_count": 7,
     "metadata": {},
     "output_type": "execute_result"
    },
    {
     "data": {
      "image/png": "[encoded data removed]",
      "text/plain": [
       "<matplotlib.figure.Figure at 0x11735cf28>"
      ]
     },
     "metadata": {},
     "output_type": "display_data"
    }
   ],
   "source": [
    "country_TM_100.plot(kind='pie')"
   ]
  },
  {
   "cell_type": "markdown",
   "metadata": {},
   "source": [
    "## 6. Male weightlifting competitions are divided into 8 weight classes. Can you estimate these weight classes by looking at the data? Hint: Create a scatter plot with Body weight on the x-axis and choose height as y."
   ]
  },
  {
   "cell_type": "code",
   "execution_count": 8,
   "metadata": {
    "collapsed": false
   },
   "outputs": [
    {
     "data": {
      "text/plain": [
       "<matplotlib.axes._subplots.AxesSubplot at 0x1179ceac8>"
      ]
     },
     "execution_count": 8,
     "metadata": {},
     "output_type": "execute_result"
    },
    {
     "data": {
      "image/png": "[encoded data removed]",
      "text/plain": [
       "<matplotlib.figure.Figure at 0x11755d278>"
      ]
     },
     "metadata": {},
     "output_type": "display_data"
    }
   ],
   "source": [
    "#athlete['sport']\n",
    "athlete_male_WL=athlete[(athlete['sex']=='male')&(athlete['sport']=='weightlifting')].sort_values('weight')\n",
    "#athlete_male_WL.plot(y='weight',kind='hist',bins=5)\n",
    "athlete_male_WL.plot(y='height',x='weight',kind='scatter')\n",
    "#athlete_grouped.plot(y='weight',kind='bar')\n",
    "#athlete_grouped['weight'].plot(kind='bar')"
   ]
  },
  {
   "cell_type": "markdown",
   "metadata": {},
   "source": [
    "## 7. Generate a histogram of male and female height distribution among all participants."
   ]
  },
  {
   "cell_type": "code",
   "execution_count": 9,
   "metadata": {
    "collapsed": false
   },
   "outputs": [
    {
     "data": {
      "image/png": "[encoded data removed]",
      "text/plain": [
       "<matplotlib.figure.Figure at 0x11a172390>"
      ]
     },
     "metadata": {},
     "output_type": "display_data"
    }
   ],
   "source": [
    "athlete_male=athlete[athlete['sex']=='male']\n",
    "athlete_female=athlete[athlete['sex']=='female']\n",
    "#athlete_male.plot(y='height',kind='hist',bins=10,color='g')\n",
    "#athlete_female.plot(y='height',kind='hist',bins=10,color='r')\n",
    "bins = np.linspace(1.2,2.1,30)\n",
    "\n",
    "plt.pyplot.hist(athlete_male['height'], bins, alpha=0.5, label='male',color='b')\n",
    "plt.pyplot.hist(athlete_female['height'], bins, alpha=0.5, label='female',color='r')\n",
    "plt.pyplot.legend(loc='upper left')\n",
    "plt.pyplot.show()"
   ]
  },
  {
   "cell_type": "markdown",
   "metadata": {},
   "source": [
    "## 8. Using the Seaborn package create a box plot for male and female height distribution among all participants."
   ]
  },
  {
   "cell_type": "code",
   "execution_count": 16,
   "metadata": {
    "collapsed": false
   },
   "outputs": [
    {
     "data": {
      "image/png": "[encoded data removed]",
      "text/plain": [
       "<matplotlib.figure.Figure at 0x11b0a1c50>"
      ]
     },
     "metadata": {},
     "output_type": "display_data"
    }
   ],
   "source": [
    " import seaborn as sns\n",
    " sns.set_style(\"whitegrid\")\n",
    " #tips = sns.load_dataset(\"tips\")\n",
    " ax = sns.boxplot(x='sex', y='height',data=athlete)"
   ]
  },
  {
   "cell_type": "markdown",
   "metadata": {},
   "source": [
    "## 9. Create a world map for countries and their respective amount of medals in Carto. [Carto](http://carto.com) provides a quick and easy way to create maps. For this you will also need to use 'countries.csv'."
   ]
  },
  {
   "cell_type": "code",
   "execution_count": null,
   "metadata": {
    "collapsed": false
   },
   "outputs": [],
   "source": [
    "country_TM1=athlete.groupby('nationality')['tot_med'].sum().reset_index()\n",
    "country_TM1=country_TM1.merge(countries, how='left' ,on='nationality')\n",
    "country_TM1.to_csv('contry_medal.csv')"
   ]
  },
  {
   "cell_type": "markdown",
   "metadata": {},
   "source": [
    "## 10. _Optional_: What else would you try?"
   ]
  },
  {
   "cell_type": "code",
   "execution_count": null,
   "metadata": {
    "collapsed": true
   },
   "outputs": [],
   "source": []
  }
 ],
 "metadata": {
  "anaconda-cloud": {},
  "kernelspec": {
   "display_name": "Python [default]",
   "language": "python",
   "name": "python3"
  },
  "language_info": {
   "codemirror_mode": {
    "name": "ipython",
    "version": 3
   },
   "file_extension": ".py",
   "mimetype": "text/x-python",
   "name": "python",
   "nbconvert_exporter": "python",
   "pygments_lexer": "ipython3",
   "version": "3.5.0rc4"
  }
 },
 "nbformat": 4,
 "nbformat_minor": 1
}
