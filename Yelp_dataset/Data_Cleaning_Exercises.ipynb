{
 "cells": [
  {
   "cell_type": "markdown",
   "metadata": {},
   "source": [
    "# Exercises\n",
    "\n",
    "Download the dataset from http://yelp.com/dataset_challenge\n",
    "\n",
    "Use the business table to answer questions 1-4."
   ]
  },
  {
   "cell_type": "markdown",
   "metadata": {},
   "source": [
    "## 1. Create a new column that contains only the zipcode."
   ]
  },
  {
   "cell_type": "code",
   "execution_count": 57,
   "metadata": {
    "collapsed": false
   },
   "outputs": [],
   "source": [
    "import simplejson\n",
    "import pandas as pd\n",
    "import numpy as np\n",
    "from datetime import datetime, timedelta\n",
    "data=[]\n",
    "with open('yelp_academic_dataset_business.json') as json_data:\n",
    "    for row in json_data:\n",
    "        data.append(simplejson.loads(row))\n",
    "#print(data[0])\n",
    "data2=data[0:5000]\n",
    "zipcode_col=[]\n",
    "for item in data2:\n",
    "    address=item['full_address']\n",
    "    #print(address)\n",
    "    address2=address.split(' ')\n",
    "    length=len(address2)\n",
    "    #print(address2)\n",
    "    #zipcode=address2[1].split(' ')\n",
    "    zipcode=address2[length-1]\n",
    "    zipcode_col.append(zipcode)"
   ]
  },
  {
   "cell_type": "markdown",
   "metadata": {},
   "source": [
    "## 2. The table contains a column called 'categories' and each entry in this column is populated by a list. We are interested in those businesses that are restaurants. Create a new column 'restaurant_type' that contains a description of the restaurant based on the other elements of 'categories. \n",
    "That is, if we have '[Sushi Bars, Japanese, Restaurants]' in categories the 'restaurant_type will be '{'SushiBars': 1, 'Japanese': 1, 'Mexican': 0, ...}'\n",
    "\n"
   ]
  },
  {
   "cell_type": "code",
   "execution_count": 58,
   "metadata": {
    "collapsed": false
   },
   "outputs": [],
   "source": [
    "category_col=[]\n",
    "category_elm=[]\n",
    "for item in data2:\n",
    "    category=item['categories']\n",
    "    if 'Restaurants' in category:\n",
    "        for item1 in category:\n",
    "            if item1 != 'Restaurants':\n",
    "                if item1 not in category_elm:\n",
    "                    category_elm.append(item1)\n",
    "#print(category_elm)  \n",
    "for item in data2:\n",
    "    dict_cat={}\n",
    "    for item2 in category_elm:\n",
    "        dict_cat[item2]=0\n",
    "    category=item['categories']\n",
    "    if 'Restaurants' in category:\n",
    "        for item1 in category:\n",
    "            if item1 != 'Restaurants':\n",
    "                dict_cat[item1]=1\n",
    "        category_col.append(dict_cat)\n",
    "    else:\n",
    "        category_col.append(dict_cat)\n",
    "#print(category_col)   "
   ]
  },
  {
   "cell_type": "markdown",
   "metadata": {},
   "source": [
    "## 3. Lets clean the 'attributes' column. The entries in this column are dictionaries. We need to do two things:\n",
    "\n",
    " - Turn all the True or False values in the dictionary to 1 and 0.\n",
    "\n",
    " - There are some entries within dictionaries that are dictionaries themselves, lets turn the whole entry into just one dictionary, for example if we have\n",
    "\n",
    "  '{'Accepts Credit Cards': True, 'Alcohol': 'none','Ambience': {'casual': False,'classy': False}}'\n",
    "\n",
    " then turn it into\n",
    "\n",
    " '{'Accepts Credit Cards':1, 'Alcohol': 0, 'Ambience_casual': 0, 'Ambience_classy': 0}'.\n",
    "\n",
    " There might be other entries like {'Price Range': 1} where the values are numerical so we might want to change that into {'Price_Range_1': 1}.\n",
    "\n"
   ]
  },
  {
   "cell_type": "code",
   "execution_count": 59,
   "metadata": {
    "collapsed": false
   },
   "outputs": [],
   "source": [
    "attributes_col_all=[]\n",
    "for item in data2:\n",
    "    attributes_col={}\n",
    "    dict_dummy={}\n",
    "    item_attri=item['attributes']\n",
    "    for item2 in item_attri:\n",
    "        if type(item_attri[item2]) != type(dict_dummy):\n",
    "            if item2 not in attributes_col:\n",
    "                if item_attri[item2]==False:\n",
    "                    attributes_col[item2]=0\n",
    "                elif item_attri[item2]==True:\n",
    "                    attributes_col[item2]=1\n",
    "                else:\n",
    "                    attributes_col[item2]=item_attri[item2]\n",
    "        else:\n",
    "            item_attri_2=item_attri[item2]\n",
    "            for item3 in item_attri_2:\n",
    "                new_key=item2+'_'+item3\n",
    "                if new_key not in attributes_col:\n",
    "                    if item_attri_2[item3]==True:\n",
    "                        attributes_col[new_key]=1\n",
    "                    elif item_attri_2[item3]==False:\n",
    "                        attributes_col[new_key]=0\n",
    "                    else:\n",
    "                        attributes_col[new_key]=item_attri_2[item3]\n",
    "    attributes_col_all.append(attributes_col)\n",
    "#print(attributes_col_all)"
   ]
  },
  {
   "cell_type": "markdown",
   "metadata": {},
   "source": [
    "## 4. Create a new column for every day of the week and fill it with the amount of hours the business is open that day."
   ]
  },
  {
   "cell_type": "code",
   "execution_count": 60,
   "metadata": {
    "collapsed": false
   },
   "outputs": [],
   "source": [
    "Monday_col=[]\n",
    "Tuesday_col=[]\n",
    "Wednesday_col=[]\n",
    "Thursday_col=[]\n",
    "Friday_col=[]\n",
    "Saturday_col=[]\n",
    "Sunday_col=[]\n",
    "dict_weekcol={'Monday':Monday_col,'Tuesday':Tuesday_col,'Wednesday':Wednesday_col,'Thursday':Thursday_col,'Friday':Friday_col,'Saturday':Saturday_col,'Sunday':Sunday_col}\n",
    "Weekdays=set(['Friday','Thursday','Wednesday','Tuesday','Monday','Sunday','Saturday'])\n",
    "for item in data2:\n",
    "    item_hours=item['hours']\n",
    "    Weekdays_items=item_hours.keys()\n",
    "    for day in set(Weekdays_items):\n",
    "        item_hours_day=item_hours[day]\n",
    "        hours_close=item_hours_day['close']\n",
    "        hours_close=hours_close.split(':')\n",
    "        hours_close=int(hours_close[0])+int(hours_close[1])/60.0\n",
    "        hours_open=item_hours_day['open']\n",
    "        hours_open=hours_open.split(':')\n",
    "        hours_open=int(hours_open[0])+int(hours_open[1])/60.0\n",
    "        num_hours_open=hours_close-hours_open\n",
    "        dict_weekcol[day].append(num_hours_open)\n",
    "    for day in Weekdays-set(Weekdays_items):\n",
    "        dict_weekcol[day].append(float('nan')) "
   ]
  },
  {
   "cell_type": "markdown",
   "metadata": {},
   "source": [
    "## 5. Create a table with the average star review for a business from the review table."
   ]
  },
  {
   "cell_type": "code",
   "execution_count": null,
   "metadata": {
    "collapsed": false
   },
   "outputs": [],
   "source": []
  },
  {
   "cell_type": "markdown",
   "metadata": {},
   "source": [
    "##  6. Create a new table that only contains restaurants with the following schema:\n",
    "Business_Name | Restaurant_type | Friday hours | Saturday hours | Attributes | Zipcode | Average Rating\n",
    "\n",
    "\n"
   ]
  },
  {
   "cell_type": "code",
   "execution_count": null,
   "metadata": {
    "collapsed": true
   },
   "outputs": [],
   "source": []
  }
 ],
 "metadata": {
  "anaconda-cloud": {},
  "kernelspec": {
   "display_name": "Python [default]",
   "language": "python",
   "name": "python3"
  },
  "language_info": {
   "codemirror_mode": {
    "name": "ipython",
    "version": 3
   },
   "file_extension": ".py",
   "mimetype": "text/x-python",
   "name": "python",
   "nbconvert_exporter": "python",
   "pygments_lexer": "ipython3",
   "version": "3.5.0rc4"
  }
 },
 "nbformat": 4,
 "nbformat_minor": 1
}
