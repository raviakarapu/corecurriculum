{
 "cells": [
  {
   "cell_type": "markdown",
   "metadata": {},
   "source": [
    "# Titanic Data Set - Statistics Review\n",
    "\n",
    "[Variable Descriptions](https://www.kaggle.com/c/titanic/data)"
   ]
  },
  {
   "cell_type": "code",
   "execution_count": 256,
   "metadata": {
    "collapsed": false
   },
   "outputs": [],
   "source": [
    "import pandas as pd\n",
    "import numpy as np\n",
    "from scipy import stats\n",
    "import matplotlib.pyplot as plt\n",
    "%matplotlib inline "
   ]
  },
  {
   "cell_type": "code",
   "execution_count": 257,
   "metadata": {
    "collapsed": true
   },
   "outputs": [],
   "source": [
    "def frange(start, stop, step):\n",
    "     i = start\n",
    "     while i < stop:\n",
    "         yield i\n",
    "         i += step"
   ]
  },
  {
   "cell_type": "markdown",
   "metadata": {},
   "source": [
    "**Describe the data. **\n",
    "- How big?\n",
    "- What are the columns and what do they mean?"
   ]
  },
  {
   "cell_type": "code",
   "execution_count": 258,
   "metadata": {
    "collapsed": false
   },
   "outputs": [
    {
     "name": "stdout",
     "output_type": "stream",
     "text": [
      "Titanic dataframe is 891 rows and 12 columns\n"
     ]
    },
    {
     "data": {
      "text/html": [
       "<div>\n",
       "<table border=\"1\" class=\"dataframe\">\n",
       "  <thead>\n",
       "    <tr style=\"text-align: right;\">\n",
       "      <th></th>\n",
       "      <th>PassengerId</th>\n",
       "      <th>Survived</th>\n",
       "      <th>Pclass</th>\n",
       "      <th>Name</th>\n",
       "      <th>Sex</th>\n",
       "      <th>Age</th>\n",
       "      <th>SibSp</th>\n",
       "      <th>Parch</th>\n",
       "      <th>Ticket</th>\n",
       "      <th>Fare</th>\n",
       "      <th>Cabin</th>\n",
       "      <th>Embarked</th>\n",
       "    </tr>\n",
       "  </thead>\n",
       "  <tbody>\n",
       "    <tr>\n",
       "      <th>0</th>\n",
       "      <td>1</td>\n",
       "      <td>0</td>\n",
       "      <td>3</td>\n",
       "      <td>Braund, Mr. Owen Harris</td>\n",
       "      <td>male</td>\n",
       "      <td>22.0</td>\n",
       "      <td>1</td>\n",
       "      <td>0</td>\n",
       "      <td>A/5 21171</td>\n",
       "      <td>7.2500</td>\n",
       "      <td>NaN</td>\n",
       "      <td>S</td>\n",
       "    </tr>\n",
       "    <tr>\n",
       "      <th>1</th>\n",
       "      <td>2</td>\n",
       "      <td>1</td>\n",
       "      <td>1</td>\n",
       "      <td>Cumings, Mrs. John Bradley (Florence Briggs Th...</td>\n",
       "      <td>female</td>\n",
       "      <td>38.0</td>\n",
       "      <td>1</td>\n",
       "      <td>0</td>\n",
       "      <td>PC 17599</td>\n",
       "      <td>71.2833</td>\n",
       "      <td>C85</td>\n",
       "      <td>C</td>\n",
       "    </tr>\n",
       "    <tr>\n",
       "      <th>2</th>\n",
       "      <td>3</td>\n",
       "      <td>1</td>\n",
       "      <td>3</td>\n",
       "      <td>Heikkinen, Miss. Laina</td>\n",
       "      <td>female</td>\n",
       "      <td>26.0</td>\n",
       "      <td>0</td>\n",
       "      <td>0</td>\n",
       "      <td>STON/O2. 3101282</td>\n",
       "      <td>7.9250</td>\n",
       "      <td>NaN</td>\n",
       "      <td>S</td>\n",
       "    </tr>\n",
       "    <tr>\n",
       "      <th>3</th>\n",
       "      <td>4</td>\n",
       "      <td>1</td>\n",
       "      <td>1</td>\n",
       "      <td>Futrelle, Mrs. Jacques Heath (Lily May Peel)</td>\n",
       "      <td>female</td>\n",
       "      <td>35.0</td>\n",
       "      <td>1</td>\n",
       "      <td>0</td>\n",
       "      <td>113803</td>\n",
       "      <td>53.1000</td>\n",
       "      <td>C123</td>\n",
       "      <td>S</td>\n",
       "    </tr>\n",
       "    <tr>\n",
       "      <th>4</th>\n",
       "      <td>5</td>\n",
       "      <td>0</td>\n",
       "      <td>3</td>\n",
       "      <td>Allen, Mr. William Henry</td>\n",
       "      <td>male</td>\n",
       "      <td>35.0</td>\n",
       "      <td>0</td>\n",
       "      <td>0</td>\n",
       "      <td>373450</td>\n",
       "      <td>8.0500</td>\n",
       "      <td>NaN</td>\n",
       "      <td>S</td>\n",
       "    </tr>\n",
       "  </tbody>\n",
       "</table>\n",
       "</div>"
      ],
      "text/plain": [
       "   PassengerId  Survived  Pclass  \\\n",
       "0            1         0       3   \n",
       "1            2         1       1   \n",
       "2            3         1       3   \n",
       "3            4         1       1   \n",
       "4            5         0       3   \n",
       "\n",
       "                                                Name     Sex   Age  SibSp  \\\n",
       "0                            Braund, Mr. Owen Harris    male  22.0      1   \n",
       "1  Cumings, Mrs. John Bradley (Florence Briggs Th...  female  38.0      1   \n",
       "2                             Heikkinen, Miss. Laina  female  26.0      0   \n",
       "3       Futrelle, Mrs. Jacques Heath (Lily May Peel)  female  35.0      1   \n",
       "4                           Allen, Mr. William Henry    male  35.0      0   \n",
       "\n",
       "   Parch            Ticket     Fare Cabin Embarked  \n",
       "0      0         A/5 21171   7.2500   NaN        S  \n",
       "1      0          PC 17599  71.2833   C85        C  \n",
       "2      0  STON/O2. 3101282   7.9250   NaN        S  \n",
       "3      0            113803  53.1000  C123        S  \n",
       "4      0            373450   8.0500   NaN        S  "
      ]
     },
     "execution_count": 258,
     "metadata": {},
     "output_type": "execute_result"
    }
   ],
   "source": [
    "import pandas as pd\n",
    "import numpy as np\n",
    "from scipy import stats\n",
    "import matplotlib.pyplot as plt\n",
    "\n",
    "titanic_ds=pd.read_csv('titanic.csv')\n",
    "ds_shape=titanic_ds.shape # gives the shape of data frame\n",
    "print('Titanic dataframe is',ds_shape[0],'rows and',ds_shape[1],'columns') #How big?\n",
    "titanic_ds.head()"
   ]
  },
  {
   "cell_type": "markdown",
   "metadata": {},
   "source": [
    "**What’s the average age of:**\n",
    "\n",
    "- Any Titanic passenger\n",
    "- A survivor\n",
    "- A non-surviving first-class passenger\n",
    "- Male survivors older than 30 from anywhere but Queenstown"
   ]
  },
  {
   "cell_type": "code",
   "execution_count": 259,
   "metadata": {
    "collapsed": false
   },
   "outputs": [
    {
     "name": "stdout",
     "output_type": "stream",
     "text": [
      "Mean age of Titanic Passengers is 29.70\n",
      "Mean age of all survivors on Titanic is 28.34\n",
      "Mean age of first class non-survivors on Titanic is 43.70\n",
      "Mean age of Male survivors older than 30 from anywhere but Queenstown is 41.49\n"
     ]
    }
   ],
   "source": [
    "print('Mean age of Titanic Passengers is %0.2f'%(titanic_ds['Age'].mean()))\n",
    "##\n",
    "titanic_ds_sur=titanic_ds[titanic_ds['Survived']==1] #only survived dataframe\n",
    "print('Mean age of all survivors on Titanic is %0.2f'%(titanic_ds_sur['Age'].mean()))\n",
    "##\n",
    "titanic_ds_nonsur_firstC=titanic_ds[(titanic_ds['Survived']==0) & (titanic_ds_nonsur['Pclass']==1)]\n",
    "print('Mean age of first class non-survivors on Titanic is %0.2f'%(titanic_ds_nonsur_firstC['Age'].mean()))\n",
    "##\n",
    "titanic_ds_not_QT=titanic_ds[(titanic_ds['Embarked']!='Q')&(titanic_ds['Sex']=='male')&(titanic_ds['Age']>30)&(titanic_ds['Survived']==1)]# Male survivors older than anywhere but Quessntown\n",
    "print('Mean age of Male survivors older than 30 from anywhere but Queenstown is %0.2f'%(titanic_ds_not_QT['Age'].mean()))"
   ]
  },
  {
   "cell_type": "markdown",
   "metadata": {},
   "source": [
    "**For the groups from the previous task, how far (in years) are the average ages from the median ages?**"
   ]
  },
  {
   "cell_type": "code",
   "execution_count": 260,
   "metadata": {
    "collapsed": false
   },
   "outputs": [
    {
     "name": "stdout",
     "output_type": "stream",
     "text": [
      "Gap between Meadian and Mean age of Titanic Passengers is 1.70\n",
      "Gap between Meadian and Mean age of all survivors on Titanic is 0.34\n",
      "Gap between Meadian and Mean age of first class non-survivors on Titanic is -1.55\n",
      "Gap between Meadian and Mean age of Male survivors older than 30 from anywhere but Queenstown is 3.49\n"
     ]
    }
   ],
   "source": [
    "print('Gap between Meadian and Mean age of Titanic Passengers is %0.2f'%(titanic_ds['Age'].mean()-titanic_ds['Age'].median()))\n",
    "##\n",
    "print('Gap between Meadian and Mean age of all survivors on Titanic is %0.2f'%(titanic_ds_sur['Age'].mean()-titanic_ds_sur['Age'].median()))\n",
    "##\n",
    "print('Gap between Meadian and Mean age of first class non-survivors on Titanic is %0.2f'%(titanic_ds_nonsur_firstC['Age'].mean()-titanic_ds_nonsur_firstC['Age'].median()))\n",
    "##\n",
    "print('Gap between Meadian and Mean age of Male survivors older than 30 from anywhere but Queenstown is %0.2f'%(titanic_ds_not_QT['Age'].mean()-titanic_ds_not_QT['Age'].median()))"
   ]
  },
  {
   "cell_type": "markdown",
   "metadata": {},
   "source": [
    "**What’s the most common:**\n",
    "- Passenger class\n",
    "- Port of Embarkation\n",
    "- Number of siblings or spouses aboard for survivors"
   ]
  },
  {
   "cell_type": "code",
   "execution_count": 261,
   "metadata": {
    "collapsed": false
   },
   "outputs": [
    {
     "data": {
      "text/plain": [
       "0    210\n",
       "1    112\n",
       "2     13\n",
       "3      4\n",
       "4      3\n",
       "Name: SibSp, dtype: int64"
      ]
     },
     "execution_count": 261,
     "metadata": {},
     "output_type": "execute_result"
    }
   ],
   "source": [
    "titanic_ds['Pclass'].value_counts() # third class is most common class\n",
    "titanic_ds['Embarked'].value_counts()# Sounthampton is most common embarkment place\n",
    "titanic_ds_sur['SibSp'].value_counts() # 0 is the most common number of spouses and siblings aboard for survivors"
   ]
  },
  {
   "cell_type": "markdown",
   "metadata": {},
   "source": [
    "**Within what range of standard deviations from the mean (0-1, 1-2, 2-3) is the median ticket price? Is it above or below the mean?**"
   ]
  },
  {
   "cell_type": "code",
   "execution_count": 262,
   "metadata": {
    "collapsed": false
   },
   "outputs": [
    {
     "name": "stdout",
     "output_type": "stream",
     "text": [
      "meadian ticket price is -0.36 standrad deviations away from mean price\n",
      "median price is below the mean price\n"
     ]
    }
   ],
   "source": [
    "mean_price=titanic_ds['Fare'].mean()\n",
    "median_price=titanic_ds['Fare'].median()\n",
    "std_price=titanic_ds['Fare'].std()\n",
    "num_stds=(median_price-mean_price)/std_price\n",
    "print('meadian ticket price is %0.2f standrad deviations away from mean price'%num_stds)\n",
    "if num_stds<0:\n",
    "    print('median price is below the mean price')\n",
    "else:\n",
    "    print('median price is above the mean price')"
   ]
  },
  {
   "cell_type": "markdown",
   "metadata": {},
   "source": [
    "**How much more expensive was the 90th percentile ticket than the 5th percentile ticket? Are they the same class?**"
   ]
  },
  {
   "cell_type": "code",
   "execution_count": 263,
   "metadata": {
    "collapsed": false
   },
   "outputs": [
    {
     "name": "stdout",
     "output_type": "stream",
     "text": [
      "90th percentile ticket is 70.73 pounds more than 5th percentile ticket\n"
     ]
    }
   ],
   "source": [
    "moreexp=titanic_ds['Fare'].quantile(0.9)-titanic_ds['Fare'].quantile(0.05)\n",
    "print('90th percentile ticket is %0.2f pounds more than 5th percentile ticket'%moreexp)"
   ]
  },
  {
   "cell_type": "markdown",
   "metadata": {},
   "source": [
    "**The highest average ticket price was paid by passengers from which port? Null ports don’t count.**"
   ]
  },
  {
   "cell_type": "code",
   "execution_count": 264,
   "metadata": {
    "collapsed": false
   },
   "outputs": [
    {
     "name": "stdout",
     "output_type": "stream",
     "text": [
      "Passengers who embarked at Cherborg paid highest average price\n"
     ]
    }
   ],
   "source": [
    "titanic_S=titanic_ds[titanic_ds['Embarked']=='S'] #embarked from southampton\n",
    "titanic_Q=titanic_ds[titanic_ds['Embarked']=='Q'] #embarked from Queenstown\n",
    "titanic_C=titanic_ds[titanic_ds['Embarked']=='C'] #embarked from Cherborg\n",
    "S_aveP=titanic_S['Fare'].mean()\n",
    "Q_aveP=titanic_Q['Fare'].mean()\n",
    "C_aveP=titanic_C['Fare'].mean()\n",
    "if (S_aveP>Q_aveP)&(S_aveP>C_aveP):\n",
    "    print('Passengers who embarked at Southampton paid highest average price')\n",
    "if (Q_aveP>S_aveP)&(Q_aveP>C_aveP):\n",
    "    print('Passengers who embarked at Queenstown paid highest average price')\n",
    "if (C_aveP>Q_aveP)&(C_aveP>S_aveP):\n",
    "    print('Passengers who embarked at Cherborg paid highest average price')"
   ]
  },
  {
   "cell_type": "markdown",
   "metadata": {},
   "source": [
    "**What is the most common passenger class for each port?**"
   ]
  },
  {
   "cell_type": "code",
   "execution_count": 265,
   "metadata": {
    "collapsed": false
   },
   "outputs": [
    {
     "data": {
      "text/plain": [
       "1    85\n",
       "3    66\n",
       "2    17\n",
       "Name: Pclass, dtype: int64"
      ]
     },
     "execution_count": 265,
     "metadata": {},
     "output_type": "execute_result"
    }
   ],
   "source": [
    "titanic_S['Pclass'].value_counts() #class 3 most common from Southampton\n",
    "titanic_Q['Pclass'].value_counts() #class 3 most common from Queenstown\n",
    "titanic_C['Pclass'].value_counts() #class 1 most common from Cherborg"
   ]
  },
  {
   "cell_type": "markdown",
   "metadata": {},
   "source": [
    "**What fraction of surviving 1st-class males paid lower than double the overall median ticket price?**"
   ]
  },
  {
   "cell_type": "code",
   "execution_count": 266,
   "metadata": {
    "collapsed": false
   },
   "outputs": [
    {
     "name": "stdout",
     "output_type": "stream",
     "text": [
      "84.38 percent of 1st class male survivors plaid lower than double the overall median price\n"
     ]
    }
   ],
   "source": [
    "titanic_ds_FC_M=titanic_ds[(titanic_ds['Pclass']!=1)&(titanic_ds['Sex']=='male')&(titanic_ds['Survived']==1)]#1st class male survivors\n",
    "titanic_ds_FC_M_LF=titanic_ds[(titanic_ds['Pclass']!=1)&(titanic_ds['Sex']=='male')&(titanic_ds['Survived']==1)&(titanic_ds['Fare']<2*median_price)]#1st class male survivors who paid less than double median price\n",
    "frac=100*(titanic_ds_FC_M_LF.shape[0]/titanic_ds_FC_M.shape[0])\n",
    "print('%0.2f percent of 1st class male survivors plaid lower than double the overall median price'%frac)"
   ]
  },
  {
   "cell_type": "markdown",
   "metadata": {},
   "source": [
    "**How much older/younger was the average surviving passenger with family members than the average non-surviving passenger without them?**"
   ]
  },
  {
   "cell_type": "code",
   "execution_count": 267,
   "metadata": {
    "collapsed": false
   },
   "outputs": [
    {
     "name": "stdout",
     "output_type": "stream",
     "text": [
      "average of surviving passenegrs with family is 6.89 years lower than average age of non-surviving passenger without them\n"
     ]
    }
   ],
   "source": [
    "titanic_ds_sur_wfm=titanic_ds[((titanic_ds['SibSp']>0)|(titanic_ds['Parch']>0))&(titanic_ds['Survived']==1)]#surviving passenger with family member\n",
    "titanic_ds_nosur_wofm=titanic_ds[((titanic_ds['SibSp']==0)&(titanic_ds['Parch']==0))&(titanic_ds['Survived']==0)]# non-surviving passenger without family members\n",
    "aveage_titanic_ds_sur_wfm=titanic_ds_sur_wfm['Age'].mean()\n",
    "aveage_titanic_ds_nosur_wofm=titanic_ds_nosur_wofm['Age'].mean()\n",
    "agediff=aveage_titanic_ds_nosur_wofm-aveage_titanic_ds_sur_wfm\n",
    "agediff_neg=-1*agediff\n",
    "if aveage_titanic_ds_sur_wfm<aveage_titanic_ds_nosur_wofm:\n",
    "    print('average of surviving passenegrs with family is %0.2f years lower than average age of non-surviving passenger without them'%agediff)\n",
    "else:\n",
    "    print('average of surviving passenegrs with family is %0.2f years more than average age of non-surviving passenger without them'%agediff_neg)"
   ]
  },
  {
   "cell_type": "markdown",
   "metadata": {},
   "source": [
    "**Display the relationship (i.e. make a plot) between survival rate and the quantile of the ticket price for 20 integer quantiles.**\n",
    "- To be clearer, what I want is for you to specify 20 quantiles, and for each of those quantiles divide the number of survivors in that quantile by the total number of people in that quantile. That’ll give you the survival rate in that quantile.\n",
    "- Then plot a line of the survival rate against the ticket fare quantiles.\n",
    "- Make sure you label your axes."
   ]
  },
  {
   "cell_type": "code",
   "execution_count": 283,
   "metadata": {
    "collapsed": false
   },
   "outputs": [
    {
     "data": {
      "image/png": "[encoded data removed]",
      "text/plain": [
       "<matplotlib.figure.Figure at 0x119db6ac8>"
      ]
     },
     "metadata": {},
     "output_type": "display_data"
    }
   ],
   "source": [
    "Fare_Quant=titanic_ds_sur['Fare'].quantile([0.05,0.1,0.15,0.2,0.25,0.3,0.35,0.4,0.45,0.5,0.55,0.6,0.65,0.7,0.75,0.8,0.85,0.9,0.95,1])\n",
    "Fare_Quant=Fare_Quant.values\n",
    "Total_quantile=[] # total number of passengers in given Quantile\n",
    "Survived_quantile=[] # number of passengers who survived in a given Quantile\n",
    "Survival_rate_quantile=[]\n",
    "for ii in range(0, len(Fare_Quant)):\n",
    "    if (ii==0):\n",
    "        titanic_ds_percentile=titanic_ds[(titanic_ds['Fare']<Fare_Quant[ii])]\n",
    "        titanic_ds_percentile_sur=titanic_ds[(titanic_ds['Fare']<Fare_Quant[ii]) & (titanic_ds['Survived']==1)]\n",
    "    else:\n",
    "        titanic_ds_percentile=titanic_ds[(titanic_ds['Fare']<Fare_Quant[ii]) & (titanic_ds['Fare']>Fare_Quant[ii-1])]\n",
    "        titanic_ds_percentile_sur=titanic_ds[(titanic_ds['Fare']<Fare_Quant[ii]) & (titanic_ds['Fare']>Fare_Quant[ii-1]) & (titanic_ds['Survived']==1)]\n",
    "    Total_quantile.append(titanic_ds_percentile.shape[0])\n",
    "    Survived_quantile.append(titanic_ds_percentile_sur.shape[0])\n",
    "    Survival_rate_quantile.append(100*titanic_ds_percentile_sur.shape[0]/titanic_ds_percentile.shape[0])   \n",
    "plt.plot(Fare_Quant,Survival_rate_quantile)\n",
    "plt.xlabel('Fare (pounds)')\n",
    "plt.ylabel('Survival rate (%)')\n",
    "plt.show()"
   ]
  },
  {
   "cell_type": "markdown",
   "metadata": {},
   "source": [
    "**For each of the following characteristics, find the median in the data:**\n",
    "- Age\n",
    "- Ticket price\n",
    "- Siblings/spouses\n",
    "- Parents/children"
   ]
  },
  {
   "cell_type": "code",
   "execution_count": 269,
   "metadata": {
    "collapsed": false
   },
   "outputs": [
    {
     "name": "stdout",
     "output_type": "stream",
     "text": [
      "Median age is 28.00\n",
      "Median ticket price is 14.45\n",
      "Median number of Siblings/spouses is 0.00\n",
      "Median number of Parents/Children is 0.00\n"
     ]
    }
   ],
   "source": [
    "Age_median=titanic_ds['Age'].median() # median age\n",
    "Fare_median=titanic_ds['Fare'].median() # median ticket price\n",
    "SibSpo_median=titanic_ds['SibSp'].median() #median number of siblings and spouses\n",
    "ParCh_median=titanic_ds['Parch'].median() #median number of Parents and Children\n",
    "print('Median age is %0.2f'%Age_median)\n",
    "print('Median ticket price is %0.2f'%Fare_median)\n",
    "print('Median number of Siblings/spouses is %0.2f'%SibSpo_median)\n",
    "print('Median number of Parents/Children is %0.2f'%ParCh_median)"
   ]
  },
  {
   "cell_type": "markdown",
   "metadata": {},
   "source": [
    "**If you were to use these medians to draw numerical boundaries separating survivors from non-survivors, which of these characteristics would be the best choice and why?**"
   ]
  },
  {
   "cell_type": "code",
   "execution_count": 270,
   "metadata": {
    "collapsed": false
   },
   "outputs": [
    {
     "name": "stdout",
     "output_type": "stream",
     "text": [
      "Survival rate for passengers who are older than median age is 0.40\n",
      "Survival rate for passengers who are younger than median age is 0.41\n",
      "Survival rate for passengers who paid more than median Fare is 0.52\n",
      "Survival rate for passengers who paid less than median Fare is 0.25\n",
      "Survival rate for passengers who have more than zero Siblings/Spouses is 0.47\n",
      "Survival rate for passengers who have NO Siblings/Spouses is 0.35\n",
      "Survival rate for passengers who have more than zero Parents/Children is 0.51\n",
      "Survival rate for passengers who have NO Parents/Children is 0.34\n",
      "Survival rate for families who paid more than median fare is 0.53\n",
      "Survival rate for singles who paid less than median fare is 0.24\n",
      "Difference in survival rate between who paid more than median fare and for those who paid less than median fare seems to have higher dfirrenec in survivali rate. Therefore median fare is reasonable numerical boundary\n"
     ]
    }
   ],
   "source": [
    "titanic_age_Gmedian=titanic_ds[(titanic_ds['Age']>Age_median)]# passengers with age greater than median\n",
    "titanic_age_Gmedian_sur=titanic_ds[(titanic_ds['Age']>Age_median)&(titanic_ds['Survived']==1)]#survivors with age greater than median\n",
    "age_Gmedian_surrate=titanic_age_Gmedian_sur.shape[0]/titanic_age_Gmedian.shape[0]\n",
    "##\n",
    "titanic_age_Lmedian=titanic_ds[(titanic_ds['Age']<=Age_median)]# passengers with age less than or equal to median\n",
    "titanic_age_Lmedian_sur=titanic_ds[(titanic_ds['Age']<=Age_median)&(titanic_ds['Survived']==1)]#survivors with age less than or equal to medain\n",
    "age_Lmedian_surrate=titanic_age_Lmedian_sur.shape[0]/titanic_age_Lmedian.shape[0]\n",
    "##\n",
    "titanic_Fare_Gmedian=titanic_ds[(titanic_ds['Fare']>Fare_median)]# passengers who paid more than median price\n",
    "titanic_Fare_Gmedian_sur=titanic_ds[(titanic_ds['Fare']>Fare_median)&(titanic_ds['Survived']==1)]#survivors who paid more than median fare\n",
    "Fare_Gmedian_surrate=titanic_Fare_Gmedian_sur.shape[0]/titanic_Fare_Gmedian.shape[0]\n",
    "##\n",
    "titanic_Fare_Lmedian=titanic_ds[(titanic_ds['Fare']<=Fare_median)]# passengers who paid less than median price\n",
    "titanic_Fare_Lmedian_sur=titanic_ds[(titanic_ds['Fare']<=Fare_median)&(titanic_ds['Survived']==1)]#survivors who paid less than median price\n",
    "Fare_Lmedian_surrate=titanic_Fare_Lmedian_sur.shape[0]/titanic_Fare_Lmedian.shape[0]\n",
    "##\n",
    "titanic_SibSpo_Gmedian=titanic_ds[(titanic_ds['SibSp']>0)]# passengers who have more than median spouses/siblings\n",
    "titanic_SibSpo_Gmedian_sur=titanic_ds[(titanic_ds['SibSp']>0)&(titanic_ds['Survived']==1)]# Survivors who have more than median number of spouses/siblings\n",
    "SibSpo_Gmedian_surrate=titanic_SibSpo_Gmedian_sur.shape[0]/titanic_SibSpo_Gmedian.shape[0]\n",
    "##\n",
    "titanic_SibSpo_Lmedian=titanic_ds[(titanic_ds['SibSp']==0)]# Passengers who have less than or equal to median number of siblings/spouses\n",
    "titanic_SibSpo_Lmedian_sur=titanic_ds[(titanic_ds['SibSp']==0)&(titanic_ds['Survived']==1)]# Survivors who have less than or equal to median number of siblings/spouses\n",
    "SibSpo_Lmedian_surrate=titanic_SibSpo_Lmedian_sur.shape[0]/titanic_SibSpo_Lmedian.shape[0]\n",
    "##\n",
    "titanic_Parch_Gmedian=titanic_ds[(titanic_ds['Parch']>0)]# passengers who have more than median Parents/Children\n",
    "titanic_Parch_Gmedian_sur=titanic_ds[(titanic_ds['Parch']>0)&(titanic_ds['Survived']==1)]# Survivors who have more than median number of Parents/Children\n",
    "Parch_Gmedian_surrate=titanic_Parch_Gmedian_sur.shape[0]/titanic_Parch_Gmedian.shape[0]\n",
    "##\n",
    "titanic_Parch_Lmedian=titanic_ds[(titanic_ds['Parch']==0)]# Passengers who have less than or equal to median number of Parents/Children\n",
    "titanic_Parch_Lmedian_sur=titanic_ds[(titanic_ds['Parch']==0)&(titanic_ds['Survived']==1)]# Survivors who have less than or equal to median number of Parents/Children\n",
    "Parch_Lmedian_surrate=titanic_Parch_Lmedian_sur.shape[0]/titanic_Parch_Lmedian.shape[0]\n",
    "##\n",
    "titanic_hfare_wfamily=titanic_ds[(titanic_ds['Fare']>Fare_median)&((titanic_ds['SibSp']>0)|(titanic_ds['Parch']>0))]#familiies paying higher than median fare\n",
    "titanic_hfare_wfamily_sur=titanic_ds[(titanic_ds['Survived']==1)&(titanic_ds['Fare']>Fare_median)&((titanic_ds['SibSp']>0)|(titanic_ds['Parch']>0))]#Surviving familiies paying higher than median fare\n",
    "hfare_wfamily_surrate=titanic_hfare_wfamily_sur.shape[0]/titanic_hfare_wfamily.shape[0]\n",
    "##\n",
    "titanic_lfare_wofamily=titanic_ds[(titanic_ds['Fare']<=Fare_median)&((titanic_ds['SibSp']==0)&(titanic_ds['Parch']==0))]#singles paying lower than median fare\n",
    "titanic_lfare_wofamily_sur=titanic_ds[(titanic_ds['Survived']==1)&(titanic_ds['Fare']<=Fare_median)&((titanic_ds['SibSp']==0)&(titanic_ds['Parch']==0))]#Surviving singles paying lower than median fare\n",
    "lfare_wofamily_surrate=titanic_lfare_wofamily_sur.shape[0]/titanic_lfare_wofamily.shape[0]\n",
    "##\n",
    "print('Survival rate for passengers who are older than median age is %0.2f'%age_Gmedian_surrate)\n",
    "print('Survival rate for passengers who are younger than median age is %0.2f'%age_Lmedian_surrate)\n",
    "print('Survival rate for passengers who paid more than median Fare is %0.2f'%Fare_Gmedian_surrate)\n",
    "print('Survival rate for passengers who paid less than median Fare is %0.2f'%Fare_Lmedian_surrate)\n",
    "print('Survival rate for passengers who have more than zero Siblings/Spouses is %0.2f'%SibSpo_Gmedian_surrate)\n",
    "print('Survival rate for passengers who have NO Siblings/Spouses is %0.2f'%SibSpo_Lmedian_surrate)\n",
    "print('Survival rate for passengers who have more than zero Parents/Children is %0.2f'%Parch_Gmedian_surrate)\n",
    "print('Survival rate for passengers who have NO Parents/Children is %0.2f'%Parch_Lmedian_surrate)\n",
    "print('Survival rate for families who paid more than median fare is %0.2f'%hfare_wfamily_surrate)\n",
    "print('Survival rate for singles who paid less than median fare is %0.2f'%lfare_wofamily_surrate)\n",
    "print('Difference in survival rate between who paid more than median fare and for those who paid less than median fare seems to have higher dfirrenec in survivali rate. Therefore median fare is reasonable numerical boundary')"
   ]
  },
  {
   "cell_type": "markdown",
   "metadata": {},
   "source": [
    "**Plot the distribution of passenger ages. Choose visually-meaningful bin sizes and label your axes.**"
   ]
  },
  {
   "cell_type": "code",
   "execution_count": 271,
   "metadata": {
    "collapsed": false
   },
   "outputs": [
    {
     "data": {
      "image/png": "[encoded data removed]",
      "text/plain": [
       "<matplotlib.figure.Figure at 0x11a7a0668>"
      ]
     },
     "metadata": {},
     "output_type": "display_data"
    }
   ],
   "source": [
    "titanic_age=titanic_ds['Age'].dropna()\n",
    "b=range(0,100,10)\n",
    "n, bins, patches = plt.hist(titanic_age, b, facecolor='blue')\n",
    "plt.xlabel('Age (years)')\n",
    "plt.ylabel('Number of Passengers')\n",
    "plt.show()"
   ]
  },
  {
   "cell_type": "markdown",
   "metadata": {},
   "source": [
    "**Find the probability that:**\n",
    "- A passenger survived\n",
    "- A passenger was male\n",
    "- A passenger was female and had at least one sibling or spouse on board\n",
    "- A survivor was from Cherbourg\n",
    "- A passenger was less than 10 years old"
   ]
  },
  {
   "cell_type": "code",
   "execution_count": 272,
   "metadata": {
    "collapsed": false
   },
   "outputs": [
    {
     "name": "stdout",
     "output_type": "stream",
     "text": [
      "probability that a passenger survived is 0.38\n",
      "probability that a pasenger was male is 0.65\n",
      "probability that a passenger was femaleand had atleast one sibling or spouse on board is 0.16\n",
      "probability that a survivor was from Cherborg is 0.27\n",
      "probability that a passenger was less than 10 years old is 0.07\n"
     ]
    }
   ],
   "source": [
    "prob_pass_sur=titanic_ds_sur.shape[0]/titanic_ds.shape[0] #probability that a passenger survived\n",
    "prob_pass_male=titanic_ds[titanic_ds['Sex']=='male'].shape[0]/titanic_ds.shape[0] #probability that a passenger is male\n",
    "prob_pass_female_wsbsp=titanic_ds[(titanic_ds['Sex']=='male')&(titanic_ds['SibSp']>0)].shape[0]/titanic_ds.shape[0]#probability that a passenger was femal with atleast one sibling or spouse\n",
    "prob_sur_Cherborg=titanic_ds[(titanic_ds['Survived']==1)&(titanic_ds['Embarked']=='C')].shape[0]/titanic_ds_sur.shape[0]#probability that survivor is from Cherborg\n",
    "prob_pass_L10=titanic_ds[titanic_ds['Age']<10].shape[0]/titanic_ds.shape[0]#probability that passenger is younger than 10 years\n",
    "print('probability that a passenger survived is %0.2f'%prob_pass_sur)\n",
    "print('probability that a pasenger was male is %0.2f'%prob_pass_male)\n",
    "print('probability that a passenger was femaleand had atleast one sibling or spouse on board is %0.2f'%prob_pass_female_wsbsp)\n",
    "print('probability that a survivor was from Cherborg is %0.2f'%prob_sur_Cherborg)\n",
    "print('probability that a passenger was less than 10 years old is %0.2f'%prob_pass_L10)"
   ]
  },
  {
   "cell_type": "markdown",
   "metadata": {},
   "source": [
    "**Knowing nothing else about the passengers aside from the survival rate of the population (see question above), if I choose 100 passengers at random from the passenger list, what's the probability that exactly 42 passengers survive?**"
   ]
  },
  {
   "cell_type": "code",
   "execution_count": 273,
   "metadata": {
    "collapsed": false
   },
   "outputs": [
    {
     "data": {
      "text/plain": [
       "0.061330411815167886"
      ]
     },
     "execution_count": 273,
     "metadata": {},
     "output_type": "execute_result"
    }
   ],
   "source": [
    "stats.binom.pmf(k=42,n=100,p=prob_pass_sur)"
   ]
  },
  {
   "cell_type": "markdown",
   "metadata": {},
   "source": [
    "**What’s the probability that at least 42 of those 100 passengers survive?**"
   ]
  },
  {
   "cell_type": "code",
   "execution_count": 274,
   "metadata": {
    "collapsed": false
   },
   "outputs": [
    {
     "data": {
      "text/plain": [
       "0.25940724207261701"
      ]
     },
     "execution_count": 274,
     "metadata": {},
     "output_type": "execute_result"
    }
   ],
   "source": [
    "1-stats.binom.cdf(k=41,n=100,p=prob_pass_sur)"
   ]
  },
  {
   "cell_type": "markdown",
   "metadata": {},
   "source": [
    "**Is there a statistically significant difference between:**\n",
    "- The ages of male and female survivors?\n",
    "- The fares paid by passengers from Queenstown and the passengers from Cherbourg?\n",
    "\n",
    "**If so, at what level? If not, how do you know?**"
   ]
  },
  {
   "cell_type": "code",
   "execution_count": 275,
   "metadata": {
    "collapsed": false
   },
   "outputs": [
    {
     "data": {
      "text/plain": [
       "Ttest_indResult(statistic=2.5258975171938896, pvalue=0.011814913211889735)"
      ]
     },
     "execution_count": 275,
     "metadata": {},
     "output_type": "execute_result"
    }
   ],
   "source": [
    "titanic_male=titanic_ds[titanic_ds['Sex']=='male']\n",
    "titanic_male_age=titanic_male['Age'].dropna()\n",
    "titanic_female=titanic_ds[titanic_ds['Sex']=='female']\n",
    "titanic_female_age=titanic_female['Age'].dropna()\n",
    "##\n",
    "stats.ttest_ind(a=titanic_male_age,b=titanic_female_age,equal_var=False)"
   ]
  },
  {
   "cell_type": "code",
   "execution_count": 276,
   "metadata": {
    "collapsed": false
   },
   "outputs": [
    {
     "data": {
      "text/plain": [
       "Ttest_indResult(statistic=-6.9951971047186809, pvalue=4.5792033919567422e-11)"
      ]
     },
     "execution_count": 276,
     "metadata": {},
     "output_type": "execute_result"
    }
   ],
   "source": [
    "titanic_Queenstown=titanic_ds[titanic_ds['Embarked']=='Q']['Fare']\n",
    "titanic_Cherborg=titanic_ds[titanic_ds['Embarked']=='C']['Fare']\n",
    "stats.ttest_ind(a=titanic_Queenstown,b=titanic_Cherborg,equal_var=False)"
   ]
  },
  {
   "cell_type": "markdown",
   "metadata": {},
   "source": [
    "**Accompany your p-values with histograms showing the distributions of both compared populations.**"
   ]
  },
  {
   "cell_type": "code",
   "execution_count": 277,
   "metadata": {
    "collapsed": false
   },
   "outputs": [
    {
     "data": {
      "image/png": "[encoded data removed]",
      "text/plain": [
       "<matplotlib.figure.Figure at 0x11784ab70>"
      ]
     },
     "metadata": {},
     "output_type": "display_data"
    }
   ],
   "source": [
    "b=range(0,100,10)\n",
    "n, bins, patches = plt.hist(titanic_male_age, b, facecolor='blue')\n",
    "n, bins, patches = plt.hist(titanic_female_age, b, facecolor='red')\n",
    "plt.xlabel('Age (years)')\n",
    "plt.ylabel('Number of Passengers')\n",
    "plt.show()"
   ]
  },
  {
   "cell_type": "markdown",
   "metadata": {},
   "source": [
    "**Did survivors pay more for their tickets than those that did not? If so, to what significance level?**"
   ]
  },
  {
   "cell_type": "code",
   "execution_count": 280,
   "metadata": {
    "collapsed": false
   },
   "outputs": [
    {
     "name": "stdout",
     "output_type": "stream",
     "text": [
      "Survivors paid 26.28 pounds more than non-survivors\n"
     ]
    },
    {
     "data": {
      "text/plain": [
       "Ttest_indResult(statistic=6.8390992590852537, pvalue=2.6993323503141236e-11)"
      ]
     },
     "execution_count": 280,
     "metadata": {},
     "output_type": "execute_result"
    }
   ],
   "source": [
    "titanic_nosur=titanic_ds[titanic_ds['Survived']==0]['Fare']\n",
    "titanic_sur=titanic_ds[titanic_ds['Survived']==1]['Fare']\n",
    "mean_fare_diff=titanic_sur.mean()-titanic_nosur.mean()\n",
    "neg_mean_fare_diff=-1*mean_fare_diff\n",
    "if titanic_nosur.mean()<titanic_sur.mean():\n",
    "    print('Survivors paid %0.2f pounds more than non-survivors'%mean_fare_diff)\n",
    "else:\n",
    "    print('Survivors paid %0.2f pounds less than non-survivors'%neg_mean_fare_diff)\n",
    "stats.ttest_ind(a=titanic_sur,b=titanic_nosur,equal_var=False)"
   ]
  },
  {
   "cell_type": "markdown",
   "metadata": {},
   "source": [
    "**Did a given first-class passenger have less family members on board than a given third-class passenger? If so, to what significance level?**"
   ]
  },
  {
   "cell_type": "code",
   "execution_count": 285,
   "metadata": {
    "collapsed": false
   },
   "outputs": [
    {
     "name": "stdout",
     "output_type": "stream",
     "text": [
      "-0.2349984913630534\n"
     ]
    },
    {
     "data": {
      "text/plain": [
       "Ttest_indResult(statistic=-2.0799075748873195, pvalue=0.037907385748521927)"
      ]
     },
     "execution_count": 285,
     "metadata": {},
     "output_type": "execute_result"
    }
   ],
   "source": [
    "titanic_1stclass=titanic_ds[titanic_ds['Pclass']==1]\n",
    "titanic_3rdclass=titanic_ds[titanic_ds['Pclass']==3]\n",
    "titanic_1stclass_fam=titanic_1stclass['SibSp']+titanic_1stclass['Parch']\n",
    "titanic_3rdclass_fam=titanic_3rdclass['SibSp']+titanic_3rdclass['Parch']\n",
    "print(titanic_1stclass_fam.mean()-titanic_3rdclass_fam.mean())\n",
    "stats.ttest_ind(a=titanic_1stclass_fam,b=titanic_3rdclass_fam,equal_var=False)"
   ]
  }
 ],
 "metadata": {
  "anaconda-cloud": {},
  "kernelspec": {
   "display_name": "Python [default]",
   "language": "python",
   "name": "python3"
  },
  "language_info": {
   "codemirror_mode": {
    "name": "ipython",
    "version": 3
   },
   "file_extension": ".py",
   "mimetype": "text/x-python",
   "name": "python",
   "nbconvert_exporter": "python",
   "pygments_lexer": "ipython3",
   "version": "3.5.0rc4"
  }
 },
 "nbformat": 4,
 "nbformat_minor": 1
}
